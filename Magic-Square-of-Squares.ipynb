{
 "cells": [
  {
   "cell_type": "code",
   "execution_count": 3,
   "metadata": {},
   "outputs": [
    {
     "name": "stdout",
     "output_type": "stream",
     "text": [
      "n = 4\n",
      "N = 260\n",
      "squares = [1, 4, 9, 16, 25, 36, 49, 64, 81, 100, 121, 144, 169, 196, 225, 256, 289, 324, 361, 400, 441, 484, 529, 576, 625, 676, 729, 784, 841, 900, 961, 1024, 1089, 1156, 1225, 1296, 1369, 1444, 1521, 1600, 1681, 1764, 1849, 1936, 2025, 2116, 2209, 2304, 2401, 2500, 2601, 2704, 2809, 2916, 3025, 3136, 3249, 3364, 3481, 3600, 3721, 3844, 3969, 4096, 4225, 4356, 4489, 4624, 4761, 4900, 5041, 5184, 5329, 5476, 5625, 5776, 5929, 6084, 6241, 6400, 6561, 6724, 6889, 7056, 7225, 7396, 7569, 7744, 7921, 8100, 8281, 8464, 8649, 8836, 9025, 9216, 9409, 9604, 9801, 10000, 10201, 10404, 10609, 10816, 11025, 11236, 11449, 11664, 11881, 12100, 12321, 12544, 12769, 12996, 13225, 13456, 13689, 13924, 14161, 14400, 14641, 14884, 15129, 15376, 15625, 15876, 16129, 16384, 16641, 16900, 17161, 17424, 17689, 17956, 18225, 18496, 18769, 19044, 19321, 19600, 19881, 20164, 20449, 20736, 21025, 21316, 21609, 21904, 22201, 22500, 22801, 23104, 23409, 23716, 24025, 24336, 24649, 24964, 25281, 25600, 25921, 26244, 26569, 26896, 27225, 27556, 27889, 28224, 28561, 28900, 29241, 29584, 29929, 30276, 30625, 30976, 31329, 31684, 32041, 32400, 32761, 33124, 33489, 33856, 34225, 34596, 34969, 35344, 35721, 36100, 36481, 36864, 37249, 37636, 38025, 38416, 38809, 39204, 39601, 40000, 40401, 40804, 41209, 41616, 42025, 42436, 42849, 43264, 43681, 44100, 44521, 44944, 45369, 45796, 46225, 46656, 47089, 47524, 47961, 48400, 48841, 49284, 49729, 50176, 50625, 51076, 51529, 51984, 52441, 52900, 53361, 53824, 54289, 54756, 55225, 55696, 56169, 56644, 57121, 57600, 58081, 58564, 59049, 59536, 60025, 60516, 61009, 61504, 62001, 62500, 63001, 63504, 64009, 64516, 65025, 65536, 66049, 66564, 67081, 67600]\n",
      "67600\n"
     ]
    }
   ],
   "source": [
    "# https://www.johndcook.com/blog/2021/04/20/magic-square-of-squares/\n",
    "\n",
    "# create n-by-n square, with\n",
    "n = 4\n",
    "\n",
    "# largest entry (before squaring)\n",
    "N = 260\n",
    "\n",
    "# squares that could be used\n",
    "squares = [ i**2 for i in range(1,N+1) ]\n",
    "\n",
    "print(\"n =\",n)\n",
    "print(\"N =\",N)\n",
    "print(\"squares =\",squares)\n",
    "print(squares[N-1])"
   ]
  },
  {
   "cell_type": "code",
   "execution_count": 4,
   "metadata": {},
   "outputs": [],
   "source": [
    "import gurobipy as gp\n",
    "from gurobipy import GRB\n",
    "\n",
    "m = gp.Model()\n",
    "\n",
    "# x[i,j] is the entry in the magic square in row i, column j\n",
    "x = m.addVars(n,n,vtype=GRB.CONTINUOUS)\n",
    "\n",
    "# y[i,j,k] = 1 if row i column j has squares[k] in it\n",
    "y = m.addVars(n,n,N,vtype=GRB.BINARY)\n",
    "\n",
    "# What is the row/column/diagonal sum?\n",
    "z = m.addVar(vtype=GRB.CONTINUOUS)"
   ]
  },
  {
   "cell_type": "code",
   "execution_count": 5,
   "metadata": {},
   "outputs": [],
   "source": [
    "# Each cell has one square in it\n",
    "m.addConstrs( gp.quicksum( y[i,j,k] for k in range(N) ) == 1 for i in range(n) for j in range(n) )\n",
    "\n",
    "# Relate x and y\n",
    "m.addConstrs( gp.quicksum( squares[k]*y[i,j,k] for k in range(N) ) == x[i,j] for i in range(n) for j in range(n) )\n",
    "\n",
    "# Each row should sum to z\n",
    "m.addConstrs( gp.quicksum( x[i,j] for j in range(n)) == z for i in range(n) )\n",
    "\n",
    "# Each column should sum to z\n",
    "m.addConstrs( gp.quicksum( x[i,j] for i in range(n)) == z for j in range(n) )\n",
    "\n",
    "# The main diagonals should sum to z\n",
    "m.addConstr( gp.quicksum( x[i,i] for i in range(n) ) == z )\n",
    "m.addConstr( gp.quicksum( x[i,n-i-1] for i in range(n) ) == z )\n",
    "\n",
    "# Each square should be used at most once as an entry\n",
    "m.addConstrs( gp.quicksum( y[i,j,k] for i in range(n) for j in range(n) ) <= 1 for k in range(N) )\n",
    "\n",
    "m.update()"
   ]
  },
  {
   "cell_type": "code",
   "execution_count": null,
   "metadata": {},
   "outputs": [
    {
     "name": "stdout",
     "output_type": "stream",
     "text": [
      "Gurobi Optimizer version 9.1.1 build v9.1.1rc0 (win64)\n",
      "Thread count: 4 physical cores, 8 logical processors, using up to 8 threads\n",
      "Optimize a model with 302 rows, 4177 columns and 12546 nonzeros\n",
      "Model fingerprint: 0x1295b3a9\n",
      "Variable types: 17 continuous, 4160 integer (4160 binary)\n",
      "Coefficient statistics:\n",
      "  Matrix range     [1e+00, 7e+04]\n",
      "  Objective range  [1e+00, 1e+00]\n",
      "  Bounds range     [1e+00, 1e+00]\n",
      "  RHS range        [1e+00, 1e+00]\n",
      "\n",
      "Warning: Completing partial solution with 4160 unfixed non-continuous variables out of 4160\n",
      "User MIP start produced solution with objective 93025 (0.01s)\n",
      "Loaded user MIP start with objective 93025\n",
      "\n",
      "Presolve time: 0.04s\n",
      "Presolved: 302 rows, 4177 columns, 12530 nonzeros\n",
      "Variable types: 0 continuous, 4177 integer (4160 binary)\n",
      "\n",
      "Root relaxation: objective 3.740000e+02, 210 iterations, 0.01 seconds\n",
      "\n",
      "    Nodes    |    Current Node    |     Objective Bounds      |     Work\n",
      " Expl Unexpl |  Obj  Depth IntInf | Incumbent    BestBd   Gap | It/Node Time\n",
      "\n",
      "     0     0  374.00000    0   25 93025.0000  374.00000   100%     -    0s\n",
      "     0     0  374.00000    0   25 93025.0000  374.00000   100%     -    0s\n",
      "     0     2  374.00000    0   25 93025.0000  374.00000   100%     -    0s\n",
      "  2161  1224  388.00000  111   47 93025.0000  374.00000   100%   3.7    5s\n",
      "  3124  1623 4406.00000  101   33 93025.0000  374.00000   100%   3.9   10s\n",
      "  5112  2758  383.00000  197   41 93025.0000  374.00000   100%   3.2   15s\n",
      "  9001  4734  492.00000  627   25 93025.0000  374.00000   100%   2.6   20s\n",
      " 13889  9030  492.00000 1102   24 93025.0000  374.00000   100%   2.3   25s\n",
      " 14783 10864  492.00000 1142   19 93025.0000  374.00000   100%   2.2   30s\n",
      " 20400 15334  530.00000 1825   26 93025.0000  374.00000   100%   2.1   35s\n",
      " 26064 19396  380.00000   83   35 93025.0000  374.00000   100%   2.1   40s\n",
      " 29342 22691  383.00000  501   35 93025.0000  374.00000   100%   2.1   51s\n",
      " 29999 27504  383.57866  502   37 93025.0000  374.00000   100%   2.1   56s\n",
      " 37431 29076  388.00000  306   42 93025.0000  374.00000   100%   2.0   60s\n",
      " 38284 29887  401.00000  418   39 93025.0000  374.00000   100%   2.2   66s\n",
      " 42235 35019  408.00000   62   38 93025.0000  374.00000   100%   2.2   71s\n",
      " 46164 38216  393.00000  182   24 93025.0000  374.00000   100%   2.1   75s\n",
      " 50160 41880 1224.00000  641   20 93025.0000  374.00000   100%   2.1   80s\n",
      " 54499 45272  387.00000  504   26 93025.0000  374.00000   100%   2.1   85s\n",
      " 56075 46614  387.00000  153   28 93025.0000  374.00000   100%   2.3   90s\n",
      " 58636 50802  387.00000  363   21 93025.0000  374.00000   100%   2.3   95s\n",
      " 62035 52318  394.00000  149   31 93025.0000  374.00000   100%   2.4  100s\n",
      " 65771 55548  394.00000  601   35 93025.0000  374.00000   100%   2.5  105s\n",
      " 68651 59960  394.00000  848   32 93025.0000  374.00000   100%   2.4  110s\n",
      " 73041 62135  441.00000  129   32 93025.0000  374.00000   100%   2.5  115s\n",
      " 75984 65168  443.00000  471   32 93025.0000  374.00000   100%   2.5  120s\n",
      " 79268 68393 11637.0000  789   20 93025.0000  374.00000   100%   2.5  126s\n",
      " 81500 69890 1251.00000  236   16 93025.0000  374.00000   100%   2.6  130s\n",
      " 85885 75470 infeasible  884      93025.0000  374.00000   100%   2.6  136s\n",
      " 87926 81731  403.00000   31   29 93025.0000  374.00000   100%   2.6  149s\n",
      " 91051 81731  519.00000 1352   16 93025.0000  374.00000   100%   2.7  150s\n",
      " 97271 85350  751.00000  626   18 93025.0000  374.00000   100%   2.8  155s\n",
      " 100697 87829 infeasible  414      93025.0000  374.00000   100%   2.8  161s\n",
      " 101589 89328  398.00000  109   34 93025.0000  374.00000   100%   3.0  165s\n",
      " 103361 94328  583.00000  347   17 93025.0000  374.00000   100%   3.1  176s\n",
      " 108477 96405 2418.00000  217   12 93025.0000  374.00000   100%   3.3  180s\n",
      " 112619 98664  742.00000  367   25 93025.0000  374.00000   100%   3.3  185s\n",
      " 116223 101458  408.02351   85   43 93025.0000  374.00000   100%   3.3  191s\n",
      " 118584 105524 67106.0000  363   16 93025.0000  374.00000   100%   3.4  204s\n",
      " 123262 108301  519.00000   30   18 93025.0000  374.00000   100%   3.9  209s\n",
      " 126349 112295 2589.40774  143   42 93025.0000  374.00000   100%   3.8  213s\n",
      " 130822 114965  944.00000  448   26 93025.0000  374.00000   100%   3.8  216s\n",
      " 135580 116469 32141.0000  410   17 93025.0000  374.00000   100%   3.7  221s\n",
      " 135695 116476 34722.0000  409   15 93025.0000  374.00000   100%   3.9  225s\n",
      " 136591 117745 32265.0000  558   16 93025.0000  374.00000   100%   4.1  230s\n",
      " 138630 121428 32265.0000  976   16 93025.0000  374.00000   100%   4.1  236s\n"
     ]
    }
   ],
   "source": [
    "# minimize the row/column/diagonal sums (equivalently, the sum of entries)\n",
    "m.setObjective( z, GRB.MINIMIZE)\n",
    "\n",
    "# Inject a warm start solution\n",
    "if N >= 260:\n",
    "    AWJ = [ \n",
    "        [30**2, 246**2, 172**2, 45**2], \n",
    "        [93**2, 116**2, 66**2, 258**2], \n",
    "        [126**2, 138**2, 237**2, 44**2], \n",
    "        [260**2, 3**2, 54**2, 150**2], \n",
    "    ]\n",
    "\n",
    "    for i in range(n):\n",
    "        for j in range(n):\n",
    "            x[i,j].Start = AWJ[i][j]\n",
    "        \n",
    "m.optimize()"
   ]
  },
  {
   "cell_type": "code",
   "execution_count": null,
   "metadata": {},
   "outputs": [],
   "source": [
    "sol = [ [ x[i,j].x for i in range(n) ] for j in range(n) ]\n",
    "print(sol)"
   ]
  },
  {
   "cell_type": "code",
   "execution_count": null,
   "metadata": {},
   "outputs": [],
   "source": []
  }
 ],
 "metadata": {
  "kernelspec": {
   "display_name": "Python 3",
   "language": "python",
   "name": "python3"
  },
  "language_info": {
   "codemirror_mode": {
    "name": "ipython",
    "version": 3
   },
   "file_extension": ".py",
   "mimetype": "text/x-python",
   "name": "python",
   "nbconvert_exporter": "python",
   "pygments_lexer": "ipython3",
   "version": "3.7.10"
  }
 },
 "nbformat": 4,
 "nbformat_minor": 4
}
